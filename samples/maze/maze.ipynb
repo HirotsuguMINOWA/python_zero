{
 "cells": [
  {
   "cell_type": "code",
   "execution_count": null,
   "metadata": {},
   "outputs": [],
   "source": [
    "import pickle\n",
    "import IPython\n",
    "from PIL import Image, ImageDraw\n",
    "from matplotlib import pyplot as plt"
   ]
  },
  {
   "cell_type": "code",
   "execution_count": null,
   "metadata": {},
   "outputs": [],
   "source": [
    "def save_image(maze, filename = \"test.png\"):\n",
    "    g = 10\n",
    "    w = len(maze)\n",
    "    h = len(maze[0])\n",
    "    white = (255, 255, 255)\n",
    "    im = Image.new(\"RGB\", (w*g, h*g), white)\n",
    "    draw = ImageDraw.Draw(im)\n",
    "    for ix in range(w):\n",
    "        for iy in range(h):\n",
    "            x = ix*g\n",
    "            y = iy * g\n",
    "            s = maze[ix][iy]\n",
    "            color = white\n",
    "            if s == '*':\n",
    "                color = (0, 0, 0)\n",
    "            elif s == 'S':\n",
    "                color = (0, 0, 255)\n",
    "            elif s == 'G':\n",
    "                color = (0, 255, 0)\n",
    "            elif s == '+':\n",
    "                color = (255, 0, 0)\n",
    "            if isinstance(maze[ix][iy], int):\n",
    "                color = (128, 128, 128)\n",
    "            draw.rectangle((x, y, x+g, y+g), fill=color)\n",
    "    im.save(filename)\n",
    "    plt.imshow(Image.open(filename))"
   ]
  },
  {
   "cell_type": "code",
   "execution_count": null,
   "metadata": {},
   "outputs": [],
   "source": [
    "with open('maze.pickle', 'rb') as f:\n",
    "    maze = pickle.load(f)\n",
    "save_image(maze)"
   ]
  },
  {
   "cell_type": "code",
   "execution_count": null,
   "metadata": {},
   "outputs": [],
   "source": [
    "def solve(x, y, step, maze):\n",
    "    if maze[x][y] == '*':\n",
    "        return\n",
    "    if isinstance(maze[x][y], int):\n",
    "        return\n",
    "    maze[x][y] = step\n",
    "    solve(x+1, y, step+1, maze)\n",
    "    solve(x-1, y, step+1, maze)\n",
    "    solve(x, y+1, step+1, maze)\n",
    "    solve(x, y-1, step+1, maze)"
   ]
  },
  {
   "cell_type": "code",
   "execution_count": null,
   "metadata": {},
   "outputs": [],
   "source": [
    "solve(1, 1, 0, maze)\n",
    "save_image(maze)"
   ]
  },
  {
   "cell_type": "code",
   "execution_count": null,
   "metadata": {},
   "outputs": [],
   "source": [
    "def draw_path(x, y, count, maze):\n",
    "    if not isinstance(maze[x][y], int):\n",
    "        return\n",
    "    if maze[x][y] != count:\n",
    "        return\n",
    "    maze[x][y] = '+'\n",
    "    count -= 1\n",
    "    draw_path(x+1, y, count, maze)\n",
    "    draw_path(x-1, y, count, maze)\n",
    "    draw_path(x, y+1, count, maze)\n",
    "    draw_path(x, y-1, count, maze)"
   ]
  },
  {
   "cell_type": "code",
   "execution_count": null,
   "metadata": {},
   "outputs": [],
   "source": [
    "def solve_anime(x, y, step, maze, files):\n",
    "    if maze[x][y] == '*':\n",
    "        return\n",
    "    if isinstance(maze[x][y], int):\n",
    "        return\n",
    "    maze[x][y] = step\n",
    "    index = len(files)\n",
    "    filename = \"file%03d.png\" % index\n",
    "    save_image(maze,filename)\n",
    "    files.append(filename)\n",
    "    solve_anime(x+1, y, step+1, maze, files)\n",
    "    solve_anime(x-1, y, step+1, maze, files)\n",
    "    solve_anime(x, y+1, step+1, maze, files)\n",
    "    solve_anime(x, y-1, step+1, maze, files)"
   ]
  },
  {
   "cell_type": "code",
   "execution_count": null,
   "metadata": {},
   "outputs": [],
   "source": [
    "with open('maze.pickle', 'rb') as f:\n",
    "    maze = pickle.load(f)\n",
    "files = []\n",
    "solve_anime(1,1,0,maze,files)"
   ]
  },
  {
   "cell_type": "code",
   "execution_count": null,
   "metadata": {},
   "outputs": [],
   "source": [
    "from apng import APNG"
   ]
  },
  {
   "cell_type": "code",
   "execution_count": null,
   "metadata": {},
   "outputs": [],
   "source": [
    "APNG.from_files(files, delay=20).save(\"animation.png\")\n",
    "IPython.display.Image(\"animation.png\")"
   ]
  },
  {
   "cell_type": "code",
   "execution_count": null,
   "metadata": {},
   "outputs": [],
   "source": []
  }
 ],
 "metadata": {
  "kernelspec": {
   "display_name": "Python 3",
   "language": "python",
   "name": "python3"
  },
  "language_info": {
   "codemirror_mode": {
    "name": "ipython",
    "version": 3
   },
   "file_extension": ".py",
   "mimetype": "text/x-python",
   "name": "python",
   "nbconvert_exporter": "python",
   "pygments_lexer": "ipython3",
   "version": "3.7.0"
  }
 },
 "nbformat": 4,
 "nbformat_minor": 2
}

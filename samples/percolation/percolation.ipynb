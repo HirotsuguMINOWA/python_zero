{
 "cells": [
  {
   "cell_type": "code",
   "execution_count": null,
   "metadata": {},
   "outputs": [],
   "source": [
    "import random\n",
    "from PIL import Image, ImageDraw\n",
    "import IPython"
   ]
  },
  {
   "cell_type": "code",
   "execution_count": null,
   "metadata": {},
   "outputs": [],
   "source": [
    "def find(i, parent):\n",
    "    while i != parent[i]:\n",
    "        i = parent[i]\n",
    "    return i"
   ]
  },
  {
   "cell_type": "code",
   "execution_count": null,
   "metadata": {},
   "outputs": [],
   "source": [
    "def union(i, j, p, parent, L):\n",
    "    if random.random() > p:\n",
    "        return\n",
    "    i = find(i, parent)\n",
    "    j = find(j, parent)\n",
    "    if j < i:\n",
    "        i, j = j, i\n",
    "    parent[j] = i"
   ]
  },
  {
   "cell_type": "code",
   "execution_count": null,
   "metadata": {},
   "outputs": [],
   "source": [
    "def make_conf(L, p):\n",
    "    parent = [i for i in range(L * L)]\n",
    "    for iy in range(L-1):\n",
    "        for ix in range(L-1):\n",
    "            i = ix + iy * L\n",
    "            j = ix+1 + iy * L\n",
    "            union(i, j, p, parent, L)\n",
    "            j = ix + (iy+1) * L\n",
    "            union(i, j, p, parent, L)\n",
    "    return parent"
   ]
  },
  {
   "cell_type": "code",
   "execution_count": null,
   "metadata": {},
   "outputs": [],
   "source": [
    "def show_image(parent, L):\n",
    "    size = 512\n",
    "    s = size // L\n",
    "    im = Image.new(\"RGB\", (size, size), (255, 255, 255))\n",
    "    colors = []\n",
    "    for _ in range(L*L):\n",
    "        r = random.randint(0, 255)\n",
    "        g = random.randint(0, 255)\n",
    "        b = random.randint(0, 255)\n",
    "        colors.append((r, g, b))\n",
    "    draw = ImageDraw.Draw(im)\n",
    "    for iy in range(L):\n",
    "        for ix in range(L):\n",
    "            i = ix + iy * L\n",
    "            i = find(i, parent)\n",
    "            c = colors[i]\n",
    "            draw.rectangle((ix*s, iy*s, ix*s+s, iy*s+s), fill=c)\n",
    "    im.save(\"test.png\")"
   ]
  },
  {
   "cell_type": "code",
   "execution_count": null,
   "metadata": {},
   "outputs": [],
   "source": [
    "L = 256\n",
    "sites = make_conf(L, 0.49)\n",
    "show_image(sites, L)\n",
    "IPython.display.Image(\"test.png\")"
   ]
  },
  {
   "cell_type": "code",
   "execution_count": null,
   "metadata": {},
   "outputs": [],
   "source": []
  }
 ],
 "metadata": {
  "kernelspec": {
   "display_name": "Python 3",
   "language": "python",
   "name": "python3"
  },
  "language_info": {
   "codemirror_mode": {
    "name": "ipython",
    "version": 3
   },
   "file_extension": ".py",
   "mimetype": "text/x-python",
   "name": "python",
   "nbconvert_exporter": "python",
   "pygments_lexer": "ipython3",
   "version": "3.7.0"
  }
 },
 "nbformat": 4,
 "nbformat_minor": 2
}
